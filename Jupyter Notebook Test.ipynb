{
 "cells": [
  {
   "cell_type": "code",
   "execution_count": null,
   "metadata": {
    "scrolled": true
   },
   "outputs": [],
   "source": [
    "print(\"step 1 - import data and read in modules\")\n",
    "import pandas as pd\n",
    "excel1 = pd.read_excel(\"Dummy RWA Data.xlsx\", \"Sheet1\")\n",
    "excel1\n",
    "excel2 = pd.read_excel(\"Dummy RWA Data.xlsx\", \"Sheet2\")\n",
    "excel2"
   ]
  },
  {
   "cell_type": "code",
   "execution_count": null,
   "metadata": {},
   "outputs": [],
   "source": [
    "print(\"step 2 - learning how to concatenate tables\")\n",
    "excel_stack = excel2.append(excel1, ignore_index = \"TRUE\")\n",
    "excel_stack"
   ]
  },
  {
   "cell_type": "code",
   "execution_count": null,
   "metadata": {},
   "outputs": [],
   "source": [
    "print(\"step 3 - learning how to join 2 tables\")\n",
    "excel_join = pd.merge(excel1, excel2, how = 'left', left_on = [\"account_id\", \"AssetClass\"], right_on = [\"account_id\", \"AssetClass\"])\n",
    "excel_join"
   ]
  },
  {
   "cell_type": "code",
   "execution_count": null,
   "metadata": {},
   "outputs": [],
   "source": [
    "print(\"step 4 - learn how to summarise data\")\n",
    "assetclasses = excel1[\"AssetClass\"]\n",
    "assetclasses\n",
    "excel1.groupby(\"AssetClass\").size()"
   ]
  },
  {
   "cell_type": "code",
   "execution_count": null,
   "metadata": {},
   "outputs": [],
   "source": [
    "print(\"step 5 - where statement (single and multiple conditions)\")\n",
    "all_mrtg_data = excel1[excel1[\"AssetClass\"] == \"Mortgages\"]\n",
    "mrtg_or_slipre = excel1[(excel1[\"AssetClass\"] == \"Mortgages\") | (excel1[\"AssetClass\"] == \"SLIPRE\")] \n",
    "mrtg_and_slipre = excel1[(excel1[\"AssetClass\"] == \"Mortgages\") & (excel1[\"AssetClass\"] == \"SLIPRE\")] \n",
    "all_mrtg_data ## all mortgage data\n",
    "mrtg_or_slipre ## all mortgage and slipre accounts - as expected\n",
    "mrtg_and_slipre ## no results = makes sense"
   ]
  },
  {
   "cell_type": "code",
   "execution_count": null,
   "metadata": {
    "scrolled": true
   },
   "outputs": [],
   "source": [
    "print(\"step 6 - import NBA\")\n",
    "nba = pd.read_excel(\"nba-2.xlsx\", \"nba-2\")\n",
    "#team_pgs = nba[\"team\"] == \"Boston Celtics\"\n",
    "#print(nba)\n",
    "nba[nba[\"Team\"] == \"Boston Celtics\"]"
   ]
  },
  {
   "cell_type": "code",
   "execution_count": null,
   "metadata": {},
   "outputs": [],
   "source": [
    "print(\"step 7 - play with NBA data\")\n",
    "# importing pandas package \n",
    "import pandas as pd \n",
    "\n",
    "# making data frame from csv file \n",
    "data = pd.read_excel(\"nba-2.xlsx\") \n",
    "\n",
    "# sorting dataframe \n",
    "data.sort_values(\"Team\", inplace = True) \n",
    "\n",
    "# making boolean series for a team name \n",
    "hawks = data[\"Team\"]==\"Atlanta Hawks\"\n",
    "\n",
    "PF = data[\"Position\"]==\"PF\"\n",
    "\n",
    "data.where(hawks & PF)"
   ]
  },
  {
   "cell_type": "code",
   "execution_count": null,
   "metadata": {},
   "outputs": [],
   "source": [
    "print(\"step 8 - import RWA data, join information then summarise by assetclass\")\n",
    "sheet1 = pd.read_excel(\"Dummy RWA Data.xlsx\", \"Sheet1\")\n",
    "sheet2 = pd.read_excel(\"Dummy RWA Data.xlsx\", \"Sheet2\")\n",
    "sheet3 = pd.read_excel(\"Dummy RWA Data.xlsx\", \"Sheet3\")\n",
    "# sheet1\n",
    "# sheet2\n",
    "# sheet3\n",
    "s1_join_s2 = pd.merge(sheet1, sheet2, how = 'left', left_on = [\"account_id\", \"AssetClass\"], right_on = [\"account_id\", \"AssetClass\"])\n",
    "s1_join_s2\n",
    "s1s2_joins3 = pd.merge(s1_join_s2, sheet3, how = 'left', left_on = \"AssetClass\", right_on = \"AssetClass\")\n",
    "s1s2_joins3"
   ]
  },
  {
   "cell_type": "code",
   "execution_count": null,
   "metadata": {},
   "outputs": [],
   "source": [
    "print(\"remaining things to do:\")\n",
    "print(\"1. learn functions/macros\")\n",
    "print(\"2. learn how to interface with google drive\")"
   ]
  }
 ],
 "metadata": {
  "kernelspec": {
   "display_name": "Python 3",
   "language": "python",
   "name": "python3"
  },
  "language_info": {
   "codemirror_mode": {
    "name": "ipython",
    "version": 3
   },
   "file_extension": ".py",
   "mimetype": "text/x-python",
   "name": "python",
   "nbconvert_exporter": "python",
   "pygments_lexer": "ipython3",
   "version": "3.5.3"
  }
 },
 "nbformat": 4,
 "nbformat_minor": 2
}
